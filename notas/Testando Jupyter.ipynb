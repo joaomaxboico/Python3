{
 "cells": [
  {
   "cell_type": "code",
   "execution_count": 9,
   "id": "85247bdb",
   "metadata": {},
   "outputs": [
    {
     "data": {
      "text/plain": [
       "6"
      ]
     },
     "execution_count": 9,
     "metadata": {},
     "output_type": "execute_result"
    }
   ],
   "source": [
    "1+2 + 3"
   ]
  },
  {
   "cell_type": "code",
   "execution_count": 8,
   "id": "0477782c",
   "metadata": {},
   "outputs": [
    {
     "name": "stdout",
     "output_type": "stream",
     "text": [
      "256\n",
      "8\n"
     ]
    }
   ],
   "source": [
    "print(2 ** 8)\n",
    "print(3 + 5)"
   ]
  },
  {
   "cell_type": "markdown",
   "id": "09e903fb",
   "metadata": {},
   "source": [
    "# 1. print('teste jupyter!')\n",
    "## 1.1 Muito legal essa nota!"
   ]
  },
  {
   "cell_type": "code",
   "execution_count": null,
   "id": "1961c21c",
   "metadata": {},
   "outputs": [],
   "source": []
  }
 ],
 "metadata": {
  "kernelspec": {
   "display_name": "Python 3 (ipykernel)",
   "language": "python",
   "name": "python3"
  },
  "language_info": {
   "codemirror_mode": {
    "name": "ipython",
    "version": 3
   },
   "file_extension": ".py",
   "mimetype": "text/x-python",
   "name": "python",
   "nbconvert_exporter": "python",
   "pygments_lexer": "ipython3",
   "version": "3.9.13"
  }
 },
 "nbformat": 4,
 "nbformat_minor": 5
}
