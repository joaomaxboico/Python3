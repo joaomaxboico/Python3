{
 "cells": [
  {
   "cell_type": "markdown",
   "id": "533b59f6",
   "metadata": {},
   "source": [
    "# Primeiros Exemplos"
   ]
  },
  {
   "cell_type": "code",
   "execution_count": null,
   "id": "26593497",
   "metadata": {},
   "outputs": [],
   "source": []
  },
  {
   "cell_type": "code",
   "execution_count": 5,
   "id": "1fe82435",
   "metadata": {},
   "outputs": [
    {
     "name": "stdout",
     "output_type": "stream",
     "text": [
      "Primeiro programa\n",
      "Help on built-in function print in module builtins:\n",
      "\n",
      "print(...)\n",
      "    print(value, ..., sep=' ', end='\\n', file=sys.stdout, flush=False)\n",
      "    \n",
      "    Prints the values to a stream, or to sys.stdout by default.\n",
      "    Optional keyword arguments:\n",
      "    file:  a file-like object (stream); defaults to the current sys.stdout.\n",
      "    sep:   string inserted between values, default a space.\n",
      "    end:   string appended after the last value, default a newline.\n",
      "    flush: whether to forcibly flush the stream.\n",
      "\n"
     ]
    }
   ],
   "source": [
    "print('Primeiro programa')\n",
    "1 \\\n",
    " +2\n",
    "help(print)"
   ]
  },
  {
   "cell_type": "code",
   "execution_count": 6,
   "id": "fc2a0adb",
   "metadata": {},
   "outputs": [
    {
     "data": {
      "text/plain": [
       "15"
      ]
     },
     "execution_count": 6,
     "metadata": {},
     "output_type": "execute_result"
    }
   ],
   "source": [
    "1 + 2 + 3\n",
    "4 + 5 + 6"
   ]
  },
  {
   "cell_type": "code",
   "execution_count": 7,
   "id": "fb560034",
   "metadata": {},
   "outputs": [
    {
     "name": "stdout",
     "output_type": "stream",
     "text": [
      "6\n",
      "15\n"
     ]
    }
   ],
   "source": [
    "print(1 + 2 + 3)\n",
    "print(4 + 5 + 6)"
   ]
  },
  {
   "cell_type": "markdown",
   "id": "55f12959",
   "metadata": {},
   "source": [
    "# Tipos Básicos"
   ]
  },
  {
   "cell_type": "code",
   "execution_count": 23,
   "id": "f12bbcbe",
   "metadata": {},
   "outputs": [
    {
     "name": "stdout",
     "output_type": "stream",
     "text": [
      "True\n",
      "False\n",
      "2.2\n",
      "Aqui eu falo na minha língua!\n",
      "Tb funciona.\n",
      "Você é muito muito muito legal!\n",
      "[1, 2, 3]\n",
      "{'nome': 'Predro', 'idade': 22}\n",
      "None\n"
     ]
    }
   ],
   "source": [
    "print(True)\n",
    "print(False)\n",
    "print(1.2+1)\n",
    "print('Aqui eu falo na minha língua!')\n",
    "print(\"Tb funciona.\")\n",
    "print('Você é ' + 3 * 'muito ' + 'legal!')\n",
    "#print(3 + '3') -> ambiguídade\n",
    "print([1,2,3])\n",
    "print({'nome':'Predro', 'idade':22})\n",
    "print(None)"
   ]
  },
  {
   "cell_type": "markdown",
   "id": "dc3c9369",
   "metadata": {},
   "source": [
    "# Variáveis"
   ]
  },
  {
   "cell_type": "code",
   "execution_count": 28,
   "id": "dbf9804a",
   "metadata": {},
   "outputs": [
    {
     "name": "stdout",
     "output_type": "stream",
     "text": [
      "15.2\n",
      "Agora sou uma string!\n",
      "5.2\n"
     ]
    }
   ],
   "source": [
    "a = 10\n",
    "b = 5.2\n",
    "print(a + b)\n",
    "\n",
    "a = 'Agora sou uma string!'\n",
    "print (a)\n",
    "print (b)\n",
    "\n",
    "#print(a + b)"
   ]
  },
  {
   "cell_type": "markdown",
   "id": "fabb69ce",
   "metadata": {},
   "source": [
    "# Comentários"
   ]
  },
  {
   "cell_type": "code",
   "execution_count": 36,
   "id": "e2222b6b",
   "metadata": {},
   "outputs": [
    {
     "name": "stdout",
     "output_type": "stream",
     "text": [
      "994.25\n",
      "Fim de verdade\n",
      "Agora Sim o Fim de verdade\n"
     ]
    }
   ],
   "source": [
    "# Minhas variáveis\n",
    "salario = 3450.45\n",
    "despesas = 2456.2\n",
    "\n",
    "\"\"\"\n",
    "A idéia é calcular o \n",
    "quanto vai sobrar no \n",
    "final do mes!\n",
    "\"\"\"\n",
    "print (salario - despesas)\n",
    "\n",
    "#print ('Fim')\n",
    "print('Fim de verdade') # comentário aqui tb vale!\n",
    "\n",
    "'''\n",
    "A idéia é calcular o \n",
    "quanto vai sobrar no \n",
    "final do mes!\n",
    "'''\n",
    "print('Agora Sim o Fim de verdade') # comentário aqui tb vale!"
   ]
  },
  {
   "cell_type": "markdown",
   "id": "4f0122cf",
   "metadata": {},
   "source": [
    "# Operadores Aritméticos"
   ]
  },
  {
   "cell_type": "code",
   "execution_count": 44,
   "id": "1c910ac0",
   "metadata": {},
   "outputs": [
    {
     "name": "stdout",
     "output_type": "stream",
     "text": [
      "5\n",
      "-3\n",
      "10.6\n",
      "3.1333333333333333\n",
      "3.0\n",
      "256\n",
      "1\n",
      "24\n"
     ]
    }
   ],
   "source": [
    "print(2+3)\n",
    "print(4-7)\n",
    "print(2*5.3)\n",
    "print(9.4 / 3)\n",
    "print(9.4 // 3) # Divisão inteira\n",
    "print(2 ** 8) # Exponenciação\n",
    "print(10 % 3) # Módulo\n",
    "\n",
    "a=12\n",
    "b=a\n",
    "print (a+b)"
   ]
  },
  {
   "cell_type": "code",
   "execution_count": 57,
   "id": "227d26ef",
   "metadata": {},
   "outputs": [
    {
     "name": "stdout",
     "output_type": "stream",
     "text": [
      "71\n"
     ]
    }
   ],
   "source": [
    "# Minhas variáveis\n",
    "salario = 3450.45\n",
    "despesas = 2456.2\n",
    "x=(salario / 100)\n",
    "y=(despesas / x)\n",
    "z=round(y)\n",
    "print(z)"
   ]
  },
  {
   "cell_type": "markdown",
   "id": "c450f892",
   "metadata": {},
   "source": [
    "# Operadores Relacionais"
   ]
  },
  {
   "cell_type": "code",
   "execution_count": 64,
   "id": "275be61e",
   "metadata": {},
   "outputs": [
    {
     "data": {
      "text/plain": [
       "False"
      ]
     },
     "execution_count": 64,
     "metadata": {},
     "output_type": "execute_result"
    }
   ],
   "source": [
    "3>4\n",
    "4>=3\n",
    "1<2\n",
    "3<=1\n",
    "3!=2\n",
    "3==3\n",
    "2==3\n",
    "2=='2'"
   ]
  },
  {
   "cell_type": "markdown",
   "id": "11a27560",
   "metadata": {},
   "source": [
    "# Operadores de Atribuição "
   ]
  },
  {
   "cell_type": "code",
   "execution_count": 78,
   "id": "891fdeea",
   "metadata": {},
   "outputs": [
    {
     "name": "stdout",
     "output_type": "stream",
     "text": [
      "10\n",
      "15\n",
      "12\n",
      "24\n",
      "6.0\n",
      "2.0\n",
      "256.0\n",
      "1.0\n"
     ]
    }
   ],
   "source": [
    "a=3\n",
    "a=a+7\n",
    "print(a)\n",
    "\n",
    "# a=5\n",
    "a +=5 # a = a + 5\n",
    "print(a)\n",
    "\n",
    "a-=3\n",
    "print(a)\n",
    "\n",
    "a*=2\n",
    "print(a)\n",
    "\n",
    "a /= 4\n",
    "print(a)\n",
    "\n",
    "a %=4\n",
    "print(a)\n",
    "\n",
    "a **=8\n",
    "print(a)\n",
    "\n",
    "a //=256\n",
    "print(a)"
   ]
  },
  {
   "cell_type": "markdown",
   "id": "85899221",
   "metadata": {},
   "source": [
    "# Operadores Lógicos"
   ]
  },
  {
   "cell_type": "code",
   "execution_count": 11,
   "id": "20faa6fb",
   "metadata": {},
   "outputs": [
    {
     "data": {
      "text/plain": [
       "True"
      ]
     },
     "execution_count": 11,
     "metadata": {},
     "output_type": "execute_result"
    }
   ],
   "source": [
    "True or False\n",
    "7!=3 and 2 > 3\n",
    "\n",
    "# Tabela verdade e And\n",
    "True and True\n",
    "True and False\n",
    "False and True\n",
    "False and False\n",
    "\n",
    "# Tabela verdade e OR\n",
    "True or True\n",
    "True or False\n",
    "False or True\n",
    "False or False\n",
    "True or True or False or True or True or True\n",
    "\n",
    "# Tabela verdade do XOR\n",
    "\n",
    "True != True\n",
    "True != False\n",
    "False != True\n",
    "False != False\n",
    "\n",
    "# Operador de Negação (unário)\n",
    "\n",
    "not True\n",
    "not False\n",
    "\n",
    "not 0\n",
    "not 1\n",
    "not not -1\n",
    "not not True\n",
    "\n",
    "# Cuidado!\n",
    "True & False\n",
    "False | True\n",
    "True ^ False\n",
    "\n",
    "# AND Bit-a-Bit\n",
    "#3 = 11 \n",
    "#2 = 10\n",
    "#_ = 10\n",
    "3 & 2\n",
    "\n",
    "# OR Bit-a-Bit\n",
    "#3 = 11 \n",
    "#2 = 10\n",
    "#_ = 11\n",
    "3 | 2\n",
    "\n",
    "# XOR Bit-a-Bit\n",
    "#3 = 11 \n",
    "#2 = 10\n",
    "#_ = 01\n",
    "3 ^ 2\n",
    "\n",
    "# Um pouco de realidade\n",
    "saldo = 1000\n",
    "salario = 4000\n",
    "despesa = 2967\n",
    "\n",
    "meta = saldo > 0 and salario - despesa >= 0.2 * salario\n",
    "meta"
   ]
  },
  {
   "cell_type": "markdown",
   "id": "e517f86b",
   "metadata": {},
   "source": [
    "# Desafio Operadores Lógicos\n",
    "\n",
    "# Os trabalhos\n"
   ]
  },
  {
   "cell_type": "code",
   "execution_count": 19,
   "id": "104b22b0",
   "metadata": {},
   "outputs": [
    {
     "name": "stdout",
     "output_type": "stream",
     "text": [
      "tv50=False tv32=False sorvete=False saudavelTrue\n"
     ]
    },
    {
     "data": {
      "text/plain": [
       "'False, resultado = 1'"
      ]
     },
     "execution_count": 19,
     "metadata": {},
     "output_type": "execute_result"
    }
   ],
   "source": [
    "trabalho_terca = False\n",
    "trabalho_quinta = False\n",
    "\n",
    "\"\"\"\n",
    "- Confirmando os 2: TV 50' + Sorvete\n",
    "- Confirmando apenas 1: TV 32' + Sorvete\n",
    "- Nenhum confirmando: Fica em casa\n",
    "\n",
    "\"\"\"\n",
    "tv_50 = trabalho_terca and trabalho_quinta\n",
    "sorvete = trabalho_terca or trabalho_quinta\n",
    "tv_32 = trabalho_terca != trabalho_quinta #xor\n",
    "mais_saudavel = not sorvete\n",
    "\n",
    "print(\"tv50={} tv32={} sorvete={} saudavel{}\"\n",
    "     .format(tv_50, tv_32, sorvete, mais_saudavel))\n",
    "\n",
    "\"{1}, {2} = {0}\".format(1, False, 'resultado')"
   ]
  },
  {
   "cell_type": "markdown",
   "id": "b0418d56",
   "metadata": {},
   "source": [
    "# Operadores Unários"
   ]
  },
  {
   "cell_type": "code",
   "execution_count": 35,
   "id": "4c0d3465",
   "metadata": {},
   "outputs": [
    {
     "data": {
      "text/plain": [
       "True"
      ]
     },
     "execution_count": 35,
     "metadata": {},
     "output_type": "execute_result"
    }
   ],
   "source": [
    "a=3\n",
    "# a++\n",
    "# a += 1\n",
    "# a\n",
    "# a--\n",
    "++a\n",
    "++a\n",
    "a = -a\n",
    "+a\n",
    "\n",
    "not 0\n",
    "not 1\n",
    "not -3\n",
    "not False\n",
    "not not True"
   ]
  },
  {
   "cell_type": "markdown",
   "id": "569efdae",
   "metadata": {},
   "source": [
    "# Operadores Ternários"
   ]
  },
  {
   "cell_type": "code",
   "execution_count": 44,
   "id": "f643fcf6",
   "metadata": {},
   "outputs": [
    {
     "name": "stdout",
     "output_type": "stream",
     "text": [
      "Hoje estou com as roupas secas.\n",
      "Hoje estou com as roupas secas.\n"
     ]
    }
   ],
   "source": [
    "esta_chuvendo = False\n",
    "print('Hoje estou com as roupas ' + ('secas.', 'molhadas.')[esta_chuvendo])\n",
    "\n",
    "print('Hoje estou com as roupas ' + ('molhadas.' if esta_chuvendo else 'secas.'))"
   ]
  },
  {
   "cell_type": "markdown",
   "id": "15068eb2",
   "metadata": {},
   "source": [
    "# Mais Operadores"
   ]
  },
  {
   "cell_type": "code",
   "execution_count": 5,
   "id": "5f0a3832",
   "metadata": {},
   "outputs": [
    {
     "data": {
      "text/plain": [
       "True"
      ]
     },
     "execution_count": 5,
     "metadata": {},
     "output_type": "execute_result"
    }
   ],
   "source": [
    "# Operador de Membro\n",
    "lista = {1, 2, 3, 'Ana', 'Carla'}\n",
    "2 in lista\n",
    "'Ana' not in lista\n",
    "\n",
    "# Operador de Identidade\n",
    "x = 3\n",
    "y = x\n",
    "z = 3\n",
    "x is y\n",
    "y is z\n",
    "x is not z\n",
    "\n",
    "lista_a = [1, 2, 3]\n",
    "lista_b = lista_a\n",
    "lista_c = [1, 2, 3]\n",
    "\n",
    "lista_a is lista_b\n",
    "lista_b is lista_c\n",
    "lista_a is not lista_c"
   ]
  },
  {
   "cell_type": "markdown",
   "id": "a41e560e",
   "metadata": {},
   "source": [
    "# Builtins "
   ]
  },
  {
   "cell_type": "code",
   "execution_count": 15,
   "id": "7dab1d0e",
   "metadata": {},
   "outputs": [
    {
     "name": "stdout",
     "output_type": "stream",
     "text": [
      "3.3333333333333335\n"
     ]
    },
    {
     "data": {
      "text/plain": [
       "14"
      ]
     },
     "execution_count": 15,
     "metadata": {},
     "output_type": "execute_result"
    }
   ],
   "source": [
    "# type()\n",
    "type(1)\n",
    "__builtins__.type('Fala Galera!')\n",
    "__builtins__.print(10 / 3)\n",
    "\n",
    "#__builtins__.help(__builtins__.dir)\n",
    "# dir()\n",
    "\n",
    "1 + 2\n",
    "dir()\n",
    "dir(__builtins__)\n",
    "\n",
    "nome = 'João Max Boico'\n",
    "type (nome)\n",
    "__builtins__.len(nome)"
   ]
  },
  {
   "cell_type": "markdown",
   "id": "04b0554e",
   "metadata": {},
   "source": [
    "# Conversão de Tipos"
   ]
  },
  {
   "cell_type": "code",
   "execution_count": 25,
   "id": "adb971d8",
   "metadata": {},
   "outputs": [
    {
     "name": "stdout",
     "output_type": "stream",
     "text": [
      "<class 'int'>\n",
      "<class 'str'>\n",
      "5\n",
      "23\n",
      "5.4\n"
     ]
    }
   ],
   "source": [
    "a = 2\n",
    "b = '3'\n",
    "\n",
    "print(type(a))\n",
    "print(type(b))\n",
    "\n",
    "print(a + int(b))\n",
    "print(str(a) + b)\n",
    "\n",
    "type(str(a))\n",
    "\n",
    "print(2 + float('3.4'))"
   ]
  },
  {
   "cell_type": "markdown",
   "id": "12c44eb7",
   "metadata": {},
   "source": [
    "# Coerção Automática"
   ]
  },
  {
   "cell_type": "code",
   "execution_count": 38,
   "id": "674da7c2",
   "metadata": {},
   "outputs": [
    {
     "data": {
      "text/plain": [
       "float"
      ]
     },
     "execution_count": 38,
     "metadata": {},
     "output_type": "execute_result"
    }
   ],
   "source": [
    "10 / 2\n",
    "type(10 / 2)\n",
    "10 / 3\n",
    "10 // 3\n",
    "type(10 // 3)\n",
    "10 // 3.3\n",
    "type(10 // 3.3)\n",
    "10 / 2.5\n",
    "2 + True\n",
    "2 + False\n",
    "type(1 + 2)\n",
    "type(1 + 2.5)"
   ]
  },
  {
   "cell_type": "markdown",
   "id": "574b1e30",
   "metadata": {},
   "source": [
    "# Tipos Numéricos"
   ]
  },
  {
   "cell_type": "code",
   "execution_count": 59,
   "id": "75a5c890",
   "metadata": {},
   "outputs": [
    {
     "data": {
      "text/plain": [
       "3.6"
      ]
     },
     "execution_count": 59,
     "metadata": {},
     "output_type": "execute_result"
    }
   ],
   "source": [
    "dir(int)\n",
    "dir(float)\n",
    "\n",
    "a = 5\n",
    "b = 2.5\n",
    "a / b\n",
    "a + b\n",
    "a * b\n",
    "\n",
    "type(a)\n",
    "type(b)\n",
    "type(a - b)\n",
    "\n",
    "b.is_integer()\n",
    "5.0.is_integer()\n",
    "\n",
    "dir(int)\n",
    "int.__add__(2, 3)\n",
    "2 + 3\n",
    "\n",
    "(-2).__abs__()\n",
    "abs(-2)\n",
    "\n",
    "(-3.6).__abs__()\n",
    "dir(float)\n",
    "abs(-3.6)"
   ]
  },
  {
   "cell_type": "code",
   "execution_count": 71,
   "id": "9551f51d",
   "metadata": {},
   "outputs": [
    {
     "data": {
      "text/plain": [
       "['Decimal',\n",
       " 'In',\n",
       " 'Out',\n",
       " '_',\n",
       " '_11',\n",
       " '_12',\n",
       " '_13',\n",
       " '_14',\n",
       " '_15',\n",
       " '_20',\n",
       " '_26',\n",
       " '_27',\n",
       " '_28',\n",
       " '_29',\n",
       " '_3',\n",
       " '_30',\n",
       " '_31',\n",
       " '_32',\n",
       " '_33',\n",
       " '_35',\n",
       " '_36',\n",
       " '_37',\n",
       " '_38',\n",
       " '_39',\n",
       " '_4',\n",
       " '_40',\n",
       " '_41',\n",
       " '_42',\n",
       " '_43',\n",
       " '_44',\n",
       " '_45',\n",
       " '_46',\n",
       " '_47',\n",
       " '_48',\n",
       " '_49',\n",
       " '_5',\n",
       " '_50',\n",
       " '_51',\n",
       " '_52',\n",
       " '_53',\n",
       " '_54',\n",
       " '_55',\n",
       " '_56',\n",
       " '_57',\n",
       " '_58',\n",
       " '_59',\n",
       " '_6',\n",
       " '_60',\n",
       " '_63',\n",
       " '_64',\n",
       " '_65',\n",
       " '_66',\n",
       " '_67',\n",
       " '_68',\n",
       " '_7',\n",
       " '_70',\n",
       " '__',\n",
       " '___',\n",
       " '__builtin__',\n",
       " '__builtins__',\n",
       " '__doc__',\n",
       " '__loader__',\n",
       " '__name__',\n",
       " '__package__',\n",
       " '__spec__',\n",
       " '_dh',\n",
       " '_i',\n",
       " '_i1',\n",
       " '_i10',\n",
       " '_i11',\n",
       " '_i12',\n",
       " '_i13',\n",
       " '_i14',\n",
       " '_i15',\n",
       " '_i16',\n",
       " '_i17',\n",
       " '_i18',\n",
       " '_i19',\n",
       " '_i2',\n",
       " '_i20',\n",
       " '_i21',\n",
       " '_i22',\n",
       " '_i23',\n",
       " '_i24',\n",
       " '_i25',\n",
       " '_i26',\n",
       " '_i27',\n",
       " '_i28',\n",
       " '_i29',\n",
       " '_i3',\n",
       " '_i30',\n",
       " '_i31',\n",
       " '_i32',\n",
       " '_i33',\n",
       " '_i34',\n",
       " '_i35',\n",
       " '_i36',\n",
       " '_i37',\n",
       " '_i38',\n",
       " '_i39',\n",
       " '_i4',\n",
       " '_i40',\n",
       " '_i41',\n",
       " '_i42',\n",
       " '_i43',\n",
       " '_i44',\n",
       " '_i45',\n",
       " '_i46',\n",
       " '_i47',\n",
       " '_i48',\n",
       " '_i49',\n",
       " '_i5',\n",
       " '_i50',\n",
       " '_i51',\n",
       " '_i52',\n",
       " '_i53',\n",
       " '_i54',\n",
       " '_i55',\n",
       " '_i56',\n",
       " '_i57',\n",
       " '_i58',\n",
       " '_i59',\n",
       " '_i6',\n",
       " '_i60',\n",
       " '_i61',\n",
       " '_i62',\n",
       " '_i63',\n",
       " '_i64',\n",
       " '_i65',\n",
       " '_i66',\n",
       " '_i67',\n",
       " '_i68',\n",
       " '_i69',\n",
       " '_i7',\n",
       " '_i70',\n",
       " '_i71',\n",
       " '_i8',\n",
       " '_i9',\n",
       " '_ih',\n",
       " '_ii',\n",
       " '_iii',\n",
       " '_oh',\n",
       " 'a',\n",
       " 'b',\n",
       " 'decimal',\n",
       " 'exit',\n",
       " 'get_ipython',\n",
       " 'getcontext',\n",
       " 'lista',\n",
       " 'lista_a',\n",
       " 'lista_b',\n",
       " 'lista_c',\n",
       " 'nome',\n",
       " 'quit',\n",
       " 'x',\n",
       " 'y',\n",
       " 'z']"
      ]
     },
     "execution_count": 71,
     "metadata": {},
     "output_type": "execute_result"
    }
   ],
   "source": [
    "1.1 + 2.2\n",
    "from decimal import Decimal, getcontext\n",
    "Decimal(1) / Decimal(7)\n",
    "\n",
    "getcontext().prec = 4\n",
    "Decimal(1) / Decimal(7)\n",
    "Decimal.max(Decimal(1), Decimal(7))\n",
    "dir(Decimal)\n",
    "\n",
    "\n",
    "1.1 + 2.2\n",
    "getcontext().prec = 10\n",
    "Decimal(1.1) + Decimal(2.2)\n",
    "\n",
    "import decimal\n",
    "dir(decimal)\n",
    "dir()"
   ]
  },
  {
   "cell_type": "markdown",
   "id": "4365ac42",
   "metadata": {},
   "source": [
    "# Tipo String"
   ]
  },
  {
   "cell_type": "code",
   "execution_count": 18,
   "id": "50af4518",
   "metadata": {},
   "outputs": [
    {
     "name": "stdout",
     "output_type": "stream",
     "text": [
      "Texto com múltiplas\n",
      "\t... linhas\n",
      "Texto com múltiplas\n",
      "... linhas\n"
     ]
    },
    {
     "data": {
      "text/plain": [
       "'Também é possível\\n... com 3 aspas simples'"
      ]
     },
     "execution_count": 18,
     "metadata": {},
     "output_type": "execute_result"
    }
   ],
   "source": [
    "dir(str)\n",
    "nome = 'Saulo Pedro'\n",
    "nome\n",
    "nome[0]\n",
    "# nome[0] = 'P'\n",
    "\n",
    "# 'marca d'àgua'\n",
    "\"Dias D'Avila\" == 'Dias D\\'Avila'\n",
    "\"Teste \\\" funciona!\"\n",
    "texto = 'Texto entre apostrófos pode ter \"aspas\"'\n",
    "texto\n",
    "\n",
    "doc = \"\"\"Texto com múltiplas\n",
    "... linhas\"\"\"\n",
    "doc\n",
    "print('Texto com múltiplas\\n\\t... linhas')\n",
    "print(doc)\n",
    "\n",
    "doc2 = '''Também é possível\n",
    "... com 3 aspas simples'''\n",
    "doc2"
   ]
  },
  {
   "cell_type": "code",
   "execution_count": 39,
   "id": "0dfa5f3c",
   "metadata": {},
   "outputs": [
    {
     "data": {
      "text/plain": [
       "'aluaP anA'"
      ]
     },
     "execution_count": 39,
     "metadata": {},
     "output_type": "execute_result"
    }
   ],
   "source": [
    "nome = 'Ana Paula'\n",
    "nome[0]\n",
    "nome[6]\n",
    "nome[-3]\n",
    "nome[4:]\n",
    "nome[-5:]\n",
    "nome[:3]\n",
    "\n",
    "nome[2:5]\n",
    "\n",
    "numeros = '1234567890'\n",
    "numeros\n",
    "numeros[::]\n",
    "numeros[::2]\n",
    "numeros[1::2]\n",
    "numeros[::-1]\n",
    "numeros[::-2]\n",
    "\n",
    "nome[::-1]\n",
    "\n"
   ]
  },
  {
   "cell_type": "code",
   "execution_count": 56,
   "id": "1c6ea2f9",
   "metadata": {},
   "outputs": [
    {
     "data": {
      "text/plain": [
       "['PYTHON É UMA LINGUAG', 'M ', 'XC', 'L', 'NT', '']"
      ]
     },
     "execution_count": 56,
     "metadata": {},
     "output_type": "execute_result"
    }
   ],
   "source": [
    "frase = 'Python é uma linguagem excelente'\n",
    "'py' not in frase\n",
    "'ing' in frase\n",
    "len(frase)\n",
    "frase.lower()\n",
    "frase\n",
    "frase = frase.upper()\n",
    "frase\n",
    "\n",
    "frase.split()\n",
    "frase.split('E')\n",
    "\n",
    "# dir(str)\n",
    "# help(str.center)"
   ]
  },
  {
   "cell_type": "code",
   "execution_count": 67,
   "id": "d20ef39f",
   "metadata": {},
   "outputs": [
    {
     "data": {
      "text/plain": [
       "['__add__',\n",
       " '__class__',\n",
       " '__contains__',\n",
       " '__delattr__',\n",
       " '__dir__',\n",
       " '__doc__',\n",
       " '__eq__',\n",
       " '__format__',\n",
       " '__ge__',\n",
       " '__getattribute__',\n",
       " '__getitem__',\n",
       " '__getnewargs__',\n",
       " '__gt__',\n",
       " '__hash__',\n",
       " '__init__',\n",
       " '__init_subclass__',\n",
       " '__iter__',\n",
       " '__le__',\n",
       " '__len__',\n",
       " '__lt__',\n",
       " '__mod__',\n",
       " '__mul__',\n",
       " '__ne__',\n",
       " '__new__',\n",
       " '__reduce__',\n",
       " '__reduce_ex__',\n",
       " '__repr__',\n",
       " '__rmod__',\n",
       " '__rmul__',\n",
       " '__setattr__',\n",
       " '__sizeof__',\n",
       " '__str__',\n",
       " '__subclasshook__',\n",
       " 'capitalize',\n",
       " 'casefold',\n",
       " 'center',\n",
       " 'count',\n",
       " 'encode',\n",
       " 'endswith',\n",
       " 'expandtabs',\n",
       " 'find',\n",
       " 'format',\n",
       " 'format_map',\n",
       " 'index',\n",
       " 'isalnum',\n",
       " 'isalpha',\n",
       " 'isascii',\n",
       " 'isdecimal',\n",
       " 'isdigit',\n",
       " 'isidentifier',\n",
       " 'islower',\n",
       " 'isnumeric',\n",
       " 'isprintable',\n",
       " 'isspace',\n",
       " 'istitle',\n",
       " 'isupper',\n",
       " 'join',\n",
       " 'ljust',\n",
       " 'lower',\n",
       " 'lstrip',\n",
       " 'maketrans',\n",
       " 'partition',\n",
       " 'removeprefix',\n",
       " 'removesuffix',\n",
       " 'replace',\n",
       " 'rfind',\n",
       " 'rindex',\n",
       " 'rjust',\n",
       " 'rpartition',\n",
       " 'rsplit',\n",
       " 'rstrip',\n",
       " 'split',\n",
       " 'splitlines',\n",
       " 'startswith',\n",
       " 'strip',\n",
       " 'swapcase',\n",
       " 'title',\n",
       " 'translate',\n",
       " 'upper',\n",
       " 'zfill']"
      ]
     },
     "execution_count": 67,
     "metadata": {},
     "output_type": "execute_result"
    }
   ],
   "source": [
    "a = '123'\n",
    "b = ' de Oliveira 4'\n",
    "a + b\n",
    "a.__add__(b)\n",
    "str.__add__(a, b)\n",
    "\n",
    "len(a)\n",
    "a.__len__()\n",
    "'1' in a\n",
    "a.__contains__('1')\n",
    "\n",
    "dir(str)\n",
    "# https://www.python-curse.eu;python3_magic_methods.php"
   ]
  },
  {
   "cell_type": "markdown",
   "id": "d1bf190a",
   "metadata": {},
   "source": [
    "# Listas"
   ]
  },
  {
   "cell_type": "code",
   "execution_count": 83,
   "id": "d8c1f171",
   "metadata": {},
   "outputs": [
    {
     "data": {
      "text/plain": [
       "['Bia', 'Ana', 1]"
      ]
     },
     "execution_count": 83,
     "metadata": {},
     "output_type": "execute_result"
    }
   ],
   "source": [
    "lista = []\n",
    "type (lista)\n",
    "dir(lista)\n",
    "# help(list)\n",
    "len(lista)\n",
    "lista.append(1)\n",
    "lista.append(5)\n",
    "lista\n",
    "len(lista)\n",
    "\n",
    "nova_lista = [1, 5, 'Ana', 'Bia']\n",
    "nova_lista\n",
    "nova_lista.remove(5)\n",
    "nova_lista\n",
    "nova_lista.reverse()\n",
    "nova_lista"
   ]
  },
  {
   "cell_type": "code",
   "execution_count": 95,
   "id": "42974d2a",
   "metadata": {},
   "outputs": [
    {
     "data": {
      "text/plain": [
       "1"
      ]
     },
     "execution_count": 95,
     "metadata": {},
     "output_type": "execute_result"
    }
   ],
   "source": [
    "lista = [1, 5, 'Rebeca', 'Guilherme', 3.1415]\n",
    "lista.index('Guilherme')\n",
    "# lista.index(42)\n",
    "lista[2]\n",
    "1 in lista\n",
    "'Rebeca' in lista\n",
    "'Pedro' not in lista\n",
    "lista[0]\n",
    "lista[4]\n",
    "# lista[5]\n",
    "lista[-1]\n",
    "lista[-5]"
   ]
  },
  {
   "cell_type": "code",
   "execution_count": 106,
   "id": "d68278e4",
   "metadata": {},
   "outputs": [
    {
     "data": {
      "text/plain": [
       "['Ana']"
      ]
     },
     "execution_count": 106,
     "metadata": {},
     "output_type": "execute_result"
    }
   ],
   "source": [
    "lista = ['Ana', 'Lia', 'Rui', 'Paulo', 'Dani']\n",
    "lista[1:3]\n",
    "lista[1:-1]\n",
    "lista[1:]\n",
    "lista[:-1]\n",
    "lista[:]\n",
    "lista[::2]\n",
    "lista[::-1]\n",
    "del lista[2]\n",
    "lista\n",
    "del lista [1:]\n",
    "lista"
   ]
  },
  {
   "cell_type": "markdown",
   "id": "95839406",
   "metadata": {},
   "source": [
    "# Tuplas"
   ]
  },
  {
   "cell_type": "code",
   "execution_count": 125,
   "id": "f442ff18",
   "metadata": {},
   "outputs": [
    {
     "data": {
      "text/plain": [
       "4"
      ]
     },
     "execution_count": 125,
     "metadata": {},
     "output_type": "execute_result"
    }
   ],
   "source": [
    "tupla = tuple()\n",
    "tupla = ()\n",
    "type(tupla)\n",
    "dir(tupla)\n",
    "# help(tupla)\n",
    "tupla = ('um')\n",
    "type(tupla)\n",
    "tupla = ('um',)\n",
    "type(tupla)\n",
    "tupla[0]\n",
    "# tupla[0] = 'novo'\n",
    "cores = ('verde', 'amarelo', 'azul', 'branco')\n",
    "cores[0]\n",
    "cores[-1]\n",
    "cores[1:]\n",
    "\n",
    "cores.index('amarelo')\n",
    "cores.count('Azul')\n",
    "len(cores)"
   ]
  },
  {
   "cell_type": "markdown",
   "id": "608a8d46",
   "metadata": {},
   "source": [
    "# Dicionários"
   ]
  },
  {
   "cell_type": "code",
   "execution_count": 148,
   "id": "5a2da83f",
   "metadata": {},
   "outputs": [
    {
     "data": {
      "text/plain": [
       "[]"
      ]
     },
     "execution_count": 148,
     "metadata": {},
     "output_type": "execute_result"
    }
   ],
   "source": [
    "pessoa = {'nome': 'Prof(a). Ana', 'idade': 38, 'cursos': ['Inglês', 'Português']}\n",
    "type(pessoa)\n",
    "dir(dict)\n",
    "len(pessoa)\n",
    "\n",
    "pessoa\n",
    "pessoa['nome']\n",
    "pessoa['idade']\n",
    "pessoa['cursos']\n",
    "pessoa['cursos'][1]\n",
    "# pessoa['tags']\n",
    "pessoa.keys()\n",
    "pessoa.values()\n",
    "pessoa.items()\n",
    "pessoa.get('idade')\n",
    "pessoa.get('tags')\n",
    "\n",
    "pessoa.get('tags', [])"
   ]
  },
  {
   "cell_type": "code",
   "execution_count": 160,
   "id": "1b376d82",
   "metadata": {},
   "outputs": [
    {
     "data": {
      "text/plain": [
       "{}"
      ]
     },
     "execution_count": 160,
     "metadata": {},
     "output_type": "execute_result"
    }
   ],
   "source": [
    "pessoa = {'nome': 'Prof. Alberto', 'idade': 43, 'cursos': ['React', 'Python']}\n",
    "pessoa['idade'] = 44\n",
    "pessoa['cursos'].append('Angular')\n",
    "pessoa\n",
    "pessoa.pop('idade')\n",
    "pessoa\n",
    "pessoa.update({'idade': 40, 'Sexo': 'M'})\n",
    "pessoa\n",
    "del pessoa['cursos']\n",
    "pessoa\n",
    "pessoa.clear()\n",
    "pessoa"
   ]
  },
  {
   "cell_type": "markdown",
   "id": "4ce92bd2",
   "metadata": {},
   "source": [
    "# Conjuntos"
   ]
  },
  {
   "cell_type": "code",
   "execution_count": 189,
   "id": "12de01fc",
   "metadata": {},
   "outputs": [
    {
     "name": "stdout",
     "output_type": "stream",
     "text": [
      "{'o', 'd', 'r', 'c', '3'}\n",
      "True True\n"
     ]
    },
    {
     "data": {
      "text/plain": [
       "{1, 3}"
      ]
     },
     "execution_count": 189,
     "metadata": {},
     "output_type": "execute_result"
    }
   ],
   "source": [
    "a = {1, 2, 3}\n",
    "type(a)\n",
    "# a[0]\n",
    "a = set('coddddd3r')\n",
    "print(a)\n",
    "print('3' in a, 4 not in a)\n",
    "{1, 2, 3} == {3, 2, 1, 3}\n",
    "\n",
    "# operacoes\n",
    "c1= {1, 2}\n",
    "c2= {2, 3}\n",
    "c1.union(c2)\n",
    "c1.intersection(c2)\n",
    "c1.update(c2)\n",
    "c1\n",
    "c2 <= c1\n",
    "c1 >= c2\n",
    "\n",
    "{1, 2, 3} - {2}\n",
    "c1 - c2\n",
    "c1 -= {2}\n",
    "c1"
   ]
  },
  {
   "cell_type": "markdown",
   "id": "3b5c4207",
   "metadata": {},
   "source": [
    "# Interpolação"
   ]
  },
  {
   "cell_type": "code",
   "execution_count": 210,
   "id": "4999591d",
   "metadata": {},
   "outputs": [
    {
     "name": "stdout",
     "output_type": "stream",
     "text": [
      "Nome: Ana Idade: 30\n",
      "Nome: Ana Idade: 30\n",
      "Nome: Ana Idade: 30\n",
      "Nome: Ana Idade: 30\n"
     ]
    }
   ],
   "source": [
    "from string import Template\n",
    "\n",
    "nome, idade = 'Ana', 30\n",
    "\n",
    "print('Nome: %s Idade: %d'  % (nome, idade)) # mais antiga\n",
    "print('Nome: {0} Idade: {1}'.format(nome, idade)) # python < 3.6\n",
    "print(f'Nome: {nome} Idade: {idade}') # python >= 3.6\n",
    "\n",
    "s = Template('Nome: $nome Idade: $idade')\n",
    "print(s.substitute(nome=nome, idade=idade))"
   ]
  }
 ],
 "metadata": {
  "kernelspec": {
   "display_name": "Python 3 (ipykernel)",
   "language": "python",
   "name": "python3"
  },
  "language_info": {
   "codemirror_mode": {
    "name": "ipython",
    "version": 3
   },
   "file_extension": ".py",
   "mimetype": "text/x-python",
   "name": "python",
   "nbconvert_exporter": "python",
   "pygments_lexer": "ipython3",
   "version": "3.9.13"
  }
 },
 "nbformat": 4,
 "nbformat_minor": 5
}
